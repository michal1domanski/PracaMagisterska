{
 "cells": [
  {
   "cell_type": "code",
   "execution_count": 2,
   "metadata": {},
   "outputs": [],
   "source": [
    "import carla\n",
    "import numpy as np\n",
    "import cv2\n",
    "import time\n",
    "import random\n",
    "import math"
   ]
  },
  {
   "cell_type": "code",
   "execution_count": 3,
   "metadata": {},
   "outputs": [],
   "source": [
    "client = carla.Client('localhost', 2000)\n",
    "client.set_timeout(10.0)\n",
    "world = client.get_world()"
   ]
  },
  {
   "cell_type": "code",
   "execution_count": 5,
   "metadata": {},
   "outputs": [
    {
     "ename": "RuntimeError",
     "evalue": "Spawn failed because of collision at spawn position",
     "output_type": "error",
     "traceback": [
      "\u001B[1;31m---------------------------------------------------------------------------\u001B[0m",
      "\u001B[1;31mRuntimeError\u001B[0m                              Traceback (most recent call last)",
      "\u001B[1;32mc:\\Users\\Michał\\Desktop\\camera-Carla.ipynb Komórka 3\u001B[0m in \u001B[0;36m<cell line: 4>\u001B[1;34m()\u001B[0m\n\u001B[0;32m      <a href='vscode-notebook-cell:/c%3A/Users/Micha%C5%82/Desktop/camera-Carla.ipynb#X13sZmlsZQ%3D%3D?line=1'>2</a>\u001B[0m vehicle_bp \u001B[39m=\u001B[39m blueprint_library\u001B[39m.\u001B[39mfilter(\u001B[39m'\u001B[39m\u001B[39mmodel3\u001B[39m\u001B[39m'\u001B[39m)[\u001B[39m0\u001B[39m]  \u001B[39m# Wybór pojazdu\u001B[39;00m\n\u001B[0;32m      <a href='vscode-notebook-cell:/c%3A/Users/Micha%C5%82/Desktop/camera-Carla.ipynb#X13sZmlsZQ%3D%3D?line=2'>3</a>\u001B[0m spawn_point \u001B[39m=\u001B[39m world\u001B[39m.\u001B[39mget_map()\u001B[39m.\u001B[39mget_spawn_points()[\u001B[39m0\u001B[39m]  \u001B[39m# Pozycja startowa\u001B[39;00m\n\u001B[1;32m----> <a href='vscode-notebook-cell:/c%3A/Users/Micha%C5%82/Desktop/camera-Carla.ipynb#X13sZmlsZQ%3D%3D?line=3'>4</a>\u001B[0m vehicle \u001B[39m=\u001B[39m world\u001B[39m.\u001B[39;49mspawn_actor(vehicle_bp, spawn_point)\n",
      "\u001B[1;31mRuntimeError\u001B[0m: Spawn failed because of collision at spawn position"
     ]
    }
   ],
   "source": [
    "blueprint_library = world.get_blueprint_library()\n",
    "vehicle_bp = blueprint_library.find('vehicle.ford.mustang')\n",
    "spawn_points = world.get_map().get_spawn_points()\n",
    "vehicle = world.spawn_actor(vehicle_bp, random.choice(spawn_points))"
   ]
  },
  {
   "cell_type": "code",
   "execution_count": null,
   "outputs": [],
   "source": [
    "spectator = world.get_spectator()\n",
    "vehicle_transform = vehicle.get_transform()\n",
    "offset = carla.Location(x=-4,z=2.5)\n",
    "spectator_transform = carla.Transform(vehicle_transform.location + offset, vehicle_transform.rotation)\n",
    "spectator.set_transform(spectator_transform)"
   ],
   "metadata": {
    "collapsed": false
   }
  },
  {
   "cell_type": "code",
   "execution_count": 6,
   "metadata": {},
   "outputs": [],
   "source": [
    "scalar = 10\n",
    "disp_size = [256, 256] * scalar\n",
    "print(disp_size)\n",
    "camera_bp = blueprint_library.find('sensor.camera.rgb')\n",
    "camera_init_trans = carla.Transform(carla.Location(z=1.5,x=0.4))\n",
    "camera_bp.set_attribute('image_size_x', str(disp_size[0]))\n",
    "camera_bp.set_attribute('image_size_y', str(disp_size[1]))\n",
    "camera = world.spawn_actor(camera_bp, camera_init_trans, attach_to=vehicle)\n",
    "\n",
    "camera.listen(lambda image: image.save_to_disk('out/%06d.png' % image.frame))"
   ]
  },
  {
   "cell_type": "code",
   "execution_count": null,
   "outputs": [],
   "source": [
    "camera.stop()"
   ],
   "metadata": {
    "collapsed": false
   }
  },
  {
   "cell_type": "code",
   "execution_count": 7,
   "metadata": {},
   "outputs": [],
   "source": [
    "def detect_lanes(image):\n",
    "    \"\"\"Wykrywanie pasów ruchu za pomocą przetwarzania obrazu\"\"\"\n",
    "    gray = cv2.cvtColor(image, cv2.COLOR_BGR2GRAY)  # Skala szarości\n",
    "    blur = cv2.GaussianBlur(gray, (5, 5), 0)  # Rozmycie\n",
    "    edges = cv2.Canny(blur, 50, 150)  # Detekcja krawędzi\n",
    "    cv2.imshow(image)\n",
    "    # Tworzenie maski dla regionu zainteresowania (ROI)\n",
    "    height, width = edges.shape\n",
    "    mask = np.zeros_like(edges)\n",
    "    roi_vertices = np.array([[(50, height), (width//2-50, height//2), (width//2+50, height//2), (width-50, height)]], dtype=np.int32)\n",
    "    cv2.fillPoly(mask, roi_vertices, 255)\n",
    "    masked_edges = cv2.bitwise_and(edges, mask)\n",
    "\n",
    "    # Wykrywanie linii metodą Hougha\n",
    "    lines = cv2.HoughLinesP(masked_edges, 1, np.pi/180, 50, minLineLength=50, maxLineGap=200)\n",
    "    return lines"
   ]
  },
  {
   "cell_type": "code",
   "execution_count": 8,
   "metadata": {},
   "outputs": [],
   "source": [
    "def get_lane_center(lines, image_width):\n",
    "    \"\"\"Obliczanie środka pasa na podstawie wykrytych linii\"\"\"\n",
    "    if lines is None:\n",
    "        return image_width // 2  # Brak wykrytych linii – domyślnie środek ekranu\n",
    "\n",
    "    left_lines, right_lines = [], []\n",
    "\n",
    "    for line in lines:\n",
    "        x1, y1, x2, y2 = line[0]\n",
    "        slope = (y2 - y1) / (x2 - x1 + 1e-6)  # Unikanie dzielenia przez zero\n",
    "        if slope < 0:\n",
    "            left_lines.append((x1, x2))\n",
    "        else:\n",
    "            right_lines.append((x1, x2))\n",
    "\n",
    "    if left_lines and right_lines:\n",
    "        left_x = np.mean([x for x1, x2 in left_lines for x in (x1, x2)])\n",
    "        right_x = np.mean([x for x1, x2 in right_lines for x in (x1, x2)])\n",
    "        return (left_x + right_x) / 2\n",
    "\n",
    "    return image_width // 2  # Domyślna wartość środka pasa\n",
    "\n",
    "\n",
    "def get_vehicle_position(image_width):\n",
    "    \"\"\"Pozycja pojazdu w obrazie (zakładamy, że to środek dolnej krawędzi)\"\"\"\n",
    "    return image_width // 2\n"
   ]
  },
  {
   "cell_type": "code",
   "execution_count": 9,
   "metadata": {},
   "outputs": [],
   "source": [
    "class PIDController:\n",
    "    \"\"\"Prosty kontroler PID do sterowania pojazdem\"\"\"\n",
    "    def __init__(self, Kp, Ki, Kd):\n",
    "        self.Kp = Kp\n",
    "        self.Ki = Ki\n",
    "        self.Kd = Kd\n",
    "        self.integral = 0\n",
    "        self.prev_error = 0\n",
    "\n",
    "    def control(self, error, dt):\n",
    "        \"\"\"Obliczanie korekcji sterowania\"\"\"\n",
    "        self.integral += error * dt\n",
    "        derivative = (error - self.prev_error) / dt\n",
    "        output = self.Kp * error + self.Ki * self.integral + self.Kd * derivative\n",
    "        self.prev_error = error\n",
    "        return output"
   ]
  },
  {
   "cell_type": "code",
   "execution_count": 10,
   "metadata": {},
   "outputs": [
    {
     "name": "stdout",
     "output_type": "stream",
     "text": [
      "Autopilot uruchomiony!\n"
     ]
    }
   ],
   "source": [
    "pid = PIDController(Kp=0.2, Ki=0.05, Kd=0.1)\n",
    "\n",
    "def process_image(image):\n",
    "    \"\"\"Obsługa obrazu z kamery i sterowanie pojazdem\"\"\"\n",
    "    array = np.frombuffer(image.raw_data, dtype=np.uint8).reshape((image.height, image.width, 4))[:, :, :3]\n",
    "\n",
    "    # Wykrywanie linii pasa ruchu\n",
    "    lines = detect_lanes(array)\n",
    "    print(\"lol\")\n",
    "    \n",
    "    # Obliczenie błędu względem środka pasa\n",
    "    desired_position = get_lane_center(lines, array.shape[1])\n",
    "    current_position = get_vehicle_position(array.shape[1])\n",
    "    error = desired_position - current_position\n",
    "\n",
    "    # Obliczenie korekcji PID\n",
    "    correction = pid.control(error, 0.05)  # dt = 0.05s\n",
    "\n",
    "    # Sterowanie pojazdem\n",
    "    control = carla.VehicleControl()\n",
    "    control.steer = np.clip(correction * 0.01, -1.0, 1.0)  # Korekcja skrętu\n",
    "    control.throttle = 0.3  # Stała prędkość\n",
    "\n",
    "    vehicle.apply_control(control)\n",
    "\n",
    "    # Podgląd obrazu z wykrytymi liniami\n",
    "    if lines is not None:\n",
    "        for line in lines:\n",
    "            x1, y1, x2, y2 = line[0]\n",
    "            cv2.line(array, (x1, y1), (x2, y2), (0, 255, 0), 5)\n",
    "    \n",
    "    cv2.imshow(\"Lane Detection\", array)\n",
    "    cv2.waitKey(1)\n",
    "\n",
    "# Start nasłuchiwania kamery\n",
    "camera.listen(lambda image: process_image(image))\n",
    "\n",
    "print(\"Autopilot uruchomiony!\")"
   ]
  },
  {
   "cell_type": "code",
   "execution_count": 36,
   "metadata": {},
   "outputs": [
    {
     "name": "stdout",
     "output_type": "stream",
     "text": [
      "Symulacja zatrzymana.\n"
     ]
    }
   ],
   "source": [
    "def stop_simulation():\n",
    "    \"\"\"Zatrzymuje symulację i niszczy aktorów\"\"\"\n",
    "    camera.stop()\n",
    "    vehicle.destroy()\n",
    "    print(\"Symulacja zatrzymana.\")\n",
    "\n",
    "stop_simulation()  # Wykonaj tę funkcję, jeśli chcesz zatrzymać wszystko"
   ]
  }
 ],
 "metadata": {
  "kernelspec": {
   "display_name": "Python 3.9.4 64-bit",
   "language": "python",
   "name": "python3"
  },
  "language_info": {
   "codemirror_mode": {
    "name": "ipython",
    "version": 3
   },
   "file_extension": ".py",
   "mimetype": "text/x-python",
   "name": "python",
   "nbconvert_exporter": "python",
   "pygments_lexer": "ipython3",
   "version": "3.9.4"
  },
  "orig_nbformat": 4,
  "vscode": {
   "interpreter": {
    "hash": "038ab4256abdf0d95227addede2ed212ddc638332b2cd82e420a4c90712cb2c6"
   }
  }
 },
 "nbformat": 4,
 "nbformat_minor": 2
}
