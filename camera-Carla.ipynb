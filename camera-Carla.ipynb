{
 "cells": [
  {
   "cell_type": "code",
   "execution_count": null,
   "metadata": {},
   "outputs": [],
   "source": [
    "import carla\n",
    "import numpy as np\n",
    "import cv2\n",
    "import time\n",
    "import random\n",
    "import math\n",
    "import ffmpeg\n",
    "import pygame\n",
    "import subprocess\n",
    "import datetime"
   ]
  },
  {
   "cell_type": "code",
   "execution_count": null,
   "metadata": {},
   "outputs": [],
   "source": [
    "client = carla.Client('localhost', 2000)\n",
    "client.set_timeout(10.0)\n",
    "world = client.get_world()"
   ]
  },
  {
   "cell_type": "code",
   "execution_count": null,
   "metadata": {},
   "outputs": [],
   "source": [
    "blueprint_library = world.get_blueprint_library()\n",
    "vehicle_bp = blueprint_library.find('vehicle.ford.mustang')\n",
    "spawn_points = world.get_map().get_spawn_points()\n",
    "vehicle = world.spawn_actor(vehicle_bp, random.choice(spawn_points))"
   ]
  },
  {
   "cell_type": "code",
   "execution_count": null,
   "metadata": {
    "collapsed": false
   },
   "outputs": [],
   "source": [
    "spectator = world.get_spectator()\n",
    "vehicle_transform = vehicle.get_transform()\n",
    "offset = carla.Location(x=-4,z=2.5)\n",
    "spectator_transform = carla.Transform(vehicle_transform.location + offset, vehicle_transform.rotation)\n",
    "spectator.set_transform(spectator_transform)"
   ]
  },
  {
   "cell_type": "code",
   "execution_count": null,
   "metadata": {},
   "outputs": [],
   "source": [
    "scalar = 3\n",
    "disp_size =  [x * scalar for x in [256, 256]]\n",
    "print(disp_size)\n",
    "camera_bp = blueprint_library.find('sensor.camera.rgb')\n",
    "camera_init_trans = carla.Transform(carla.Location(z=1.5,x=0.4))\n",
    "camera_bp.set_attribute('image_size_x', str(disp_size[0]))\n",
    "camera_bp.set_attribute('image_size_y', str(disp_size[1]))\n",
    "camera = world.spawn_actor(camera_bp, camera_init_trans, attach_to=vehicle)"
   ]
  },
  {
   "cell_type": "code",
   "execution_count": null,
   "metadata": {},
   "outputs": [],
   "source": [
    "ffmpeg_process = None\n",
    "recording = False\n",
    "pygame.init()\n",
    "screen=pygame.display.set_mode((disp_size[0], disp_size[1]))"
   ]
  },
  {
   "cell_type": "code",
   "execution_count": null,
   "metadata": {},
   "outputs": [],
   "source": [
    "def start_recording():\n",
    "    global ffmpeg_process, recording\n",
    "    if not recording:\n",
    "        timestamp = datetime.datetime.now().strftime(\"%d-%m-%Y_%H-%M-%S\")\n",
    "        filename = f'{timestamp}.mp4'\n",
    "\n",
    "        ffmpeg_cmd = [\n",
    "            \"ffmpeg\",\n",
    "            \"-y\",  # Nadpisywanie plików\n",
    "            \"-f\", \"rawvideo\",\n",
    "            \"-pix_fmt\", \"bgr24\",\n",
    "            \"-s\", \"256x256\",\n",
    "            \"-r\", \"30\",  # FPS\n",
    "            \"-i\", \"-\",  # Input z `stdin`\n",
    "            \"-c:v\", \"libx264\",\n",
    "            \"-preset\", \"ultrafast\",\n",
    "            \"-crf\", \"23\",\n",
    "            filename\n",
    "        ]\n",
    "\n",
    "        ffmpeg_process = subprocess.Popen(ffmpeg_cmd, stdin=subprocess.PIPE)\n",
    "        recording = True\n",
    "        print(f\"🔴 Nagrywanie rozpoczęte: {filename}\")"
   ]
  },
  {
   "cell_type": "code",
   "execution_count": null,
   "metadata": {},
   "outputs": [],
   "source": [
    "def stop_recording():\n",
    "    global ffmpeg_process, recording\n",
    "    if recording and ffmpeg_process:\n",
    "        ffmpeg_process.stdin.close()\n",
    "        ffmpeg_process.wait()\n",
    "        ffmpeg_process = None\n",
    "        recording = False\n",
    "        print(\"🛑 Nagrywanie zakończone.\")"
   ]
  },
  {
   "cell_type": "code",
   "execution_count": null,
   "metadata": {},
   "outputs": [],
   "source": [
    "def process_image(image):\n",
    "    \"\"\" Przetwarza obraz z kamery i wysyła do ffmpeg. \"\"\"\n",
    "    if recording and ffmpeg_process:\n",
    "        array = np.frombuffer(image.raw_data, dtype=np.uint8)\n",
    "        array = array.reshape((image.height, image.width, 4))  # RGBA\n",
    "        frame = array[:, :, :3]  # Konwersja do BGR (OpenCV)\n",
    "        ffmpeg_process.stdin.write(frame.tobytes())"
   ]
  },
  {
   "cell_type": "code",
   "execution_count": null,
   "metadata": {},
   "outputs": [],
   "source": [
    "camera.listen(lambda image: process_image(image)) #image.save_to_disk('out/%06d.png' % image.frame))"
   ]
  },
  {
   "cell_type": "code",
   "execution_count": null,
   "metadata": {},
   "outputs": [],
   "source": [
    "running = True\n",
    "while running:\n",
    "    for event in pygame.event.get():\n",
    "        if event.type == pygame.QUIT:\n",
    "            running = False\n",
    "\n",
    "        if event.type == pygame.KEYDOWN:\n",
    "            if event.key == pygame.K_r:  # Naciśnięcie \"R\"\n",
    "                start_recording()\n",
    "            if event.key == pygame.K_k:  # Naciśnięcie \"K\"\n",
    "                stop_recording()"
   ]
  },
  {
   "cell_type": "code",
   "execution_count": null,
   "metadata": {
    "collapsed": false
   },
   "outputs": [],
   "source": [
    "camera.stop()\n",
    "camera.destroy()\n",
    "stop_recording()\n",
    "pygame.quit()"
   ]
  },
  {
   "cell_type": "code",
   "execution_count": null,
   "metadata": {},
   "outputs": [],
   "source": [
    "def detect_lanes(image):\n",
    "    \"\"\"Wykrywanie pasów ruchu za pomocą przetwarzania obrazu\"\"\"\n",
    "    gray = cv2.cvtColor(image, cv2.COLOR_BGR2GRAY)  # Skala szarości\n",
    "    blur = cv2.GaussianBlur(gray, (5, 5), 0)  # Rozmycie\n",
    "    edges = cv2.Canny(blur, 50, 150)  # Detekcja krawędzi\n",
    "    cv2.imshow(image)\n",
    "    # Tworzenie maski dla regionu zainteresowania (ROI)\n",
    "    height, width = edges.shape\n",
    "    mask = np.zeros_like(edges)\n",
    "    roi_vertices = np.array([[(50, height), (width//2-50, height//2), (width//2+50, height//2), (width-50, height)]], dtype=np.int32)\n",
    "    cv2.fillPoly(mask, roi_vertices, 255)\n",
    "    masked_edges = cv2.bitwise_and(edges, mask)\n",
    "\n",
    "    # Wykrywanie linii metodą Hougha\n",
    "    lines = cv2.HoughLinesP(masked_edges, 1, np.pi/180, 50, minLineLength=50, maxLineGap=200)\n",
    "    return lines"
   ]
  },
  {
   "cell_type": "code",
   "execution_count": null,
   "metadata": {},
   "outputs": [],
   "source": [
    "def get_lane_center(lines, image_width):\n",
    "    \"\"\"Obliczanie środka pasa na podstawie wykrytych linii\"\"\"\n",
    "    if lines is None:\n",
    "        return image_width // 2  # Brak wykrytych linii – domyślnie środek ekranu\n",
    "\n",
    "    left_lines, right_lines = [], []\n",
    "\n",
    "    for line in lines:\n",
    "        x1, y1, x2, y2 = line[0]\n",
    "        slope = (y2 - y1) / (x2 - x1 + 1e-6)  # Unikanie dzielenia przez zero\n",
    "        if slope < 0:\n",
    "            left_lines.append((x1, x2))\n",
    "        else:\n",
    "            right_lines.append((x1, x2))\n",
    "\n",
    "    if left_lines and right_lines:\n",
    "        left_x = np.mean([x for x1, x2 in left_lines for x in (x1, x2)])\n",
    "        right_x = np.mean([x for x1, x2 in right_lines for x in (x1, x2)])\n",
    "        return (left_x + right_x) / 2\n",
    "\n",
    "    return image_width // 2  # Domyślna wartość środka pasa\n",
    "\n",
    "\n",
    "def get_vehicle_position(image_width):\n",
    "    \"\"\"Pozycja pojazdu w obrazie (zakładamy, że to środek dolnej krawędzi)\"\"\"\n",
    "    return image_width // 2\n"
   ]
  },
  {
   "cell_type": "code",
   "execution_count": null,
   "metadata": {},
   "outputs": [],
   "source": [
    "class PIDController:\n",
    "    \"\"\"Prosty kontroler PID do sterowania pojazdem\"\"\"\n",
    "    def __init__(self, Kp, Ki, Kd):\n",
    "        self.Kp = Kp\n",
    "        self.Ki = Ki\n",
    "        self.Kd = Kd\n",
    "        self.integral = 0\n",
    "        self.prev_error = 0\n",
    "\n",
    "    def control(self, error, dt):\n",
    "        \"\"\"Obliczanie korekcji sterowania\"\"\"\n",
    "        self.integral += error * dt\n",
    "        derivative = (error - self.prev_error) / dt\n",
    "        output = self.Kp * error + self.Ki * self.integral + self.Kd * derivative\n",
    "        self.prev_error = error\n",
    "        return output"
   ]
  },
  {
   "cell_type": "code",
   "execution_count": null,
   "metadata": {},
   "outputs": [],
   "source": [
    "pid = PIDController(Kp=0.2, Ki=0.05, Kd=0.1)\n",
    "\n",
    "def process_image(image):\n",
    "    \"\"\"Obsługa obrazu z kamery i sterowanie pojazdem\"\"\"\n",
    "    array = np.frombuffer(image.raw_data, dtype=np.uint8).reshape((image.height, image.width, 4))[:, :, :3]\n",
    "\n",
    "    # Wykrywanie linii pasa ruchu\n",
    "    lines = detect_lanes(array)\n",
    "    print(\"lol\")\n",
    "    \n",
    "    # Obliczenie błędu względem środka pasa\n",
    "    desired_position = get_lane_center(lines, array.shape[1])\n",
    "    current_position = get_vehicle_position(array.shape[1])\n",
    "    error = desired_position - current_position\n",
    "\n",
    "    # Obliczenie korekcji PID\n",
    "    correction = pid.control(error, 0.05)  # dt = 0.05s\n",
    "\n",
    "    # Sterowanie pojazdem\n",
    "    control = carla.VehicleControl()\n",
    "    control.steer = np.clip(correction * 0.01, -1.0, 1.0)  # Korekcja skrętu\n",
    "    control.throttle = 0.3  # Stała prędkość\n",
    "\n",
    "    vehicle.apply_control(control)\n",
    "\n",
    "    # Podgląd obrazu z wykrytymi liniami\n",
    "    if lines is not None:\n",
    "        for line in lines:\n",
    "            x1, y1, x2, y2 = line[0]\n",
    "            cv2.line(array, (x1, y1), (x2, y2), (0, 255, 0), 5)\n",
    "    \n",
    "    cv2.imshow(\"Lane Detection\", array)\n",
    "    cv2.waitKey(1)\n",
    "\n",
    "# Start nasłuchiwania kamery\n",
    "camera.listen(lambda image: process_image(image))\n",
    "\n",
    "print(\"Autopilot uruchomiony!\")"
   ]
  },
  {
   "cell_type": "code",
   "execution_count": null,
   "metadata": {},
   "outputs": [],
   "source": [
    "def stop_simulation():\n",
    "    \"\"\"Zatrzymuje symulację i niszczy aktorów\"\"\"\n",
    "    camera.stop()\n",
    "    vehicle.destroy()\n",
    "    print(\"Symulacja zatrzymana.\")\n",
    "\n",
    "stop_simulation()  # Wykonaj tę funkcję, jeśli chcesz zatrzymać wszystko"
   ]
  }
 ],
 "metadata": {
  "kernelspec": {
   "display_name": "Python 3.9.4 64-bit",
   "language": "python",
   "name": "python3"
  },
  "language_info": {
   "codemirror_mode": {
    "name": "ipython",
    "version": 3
   },
   "file_extension": ".py",
   "mimetype": "text/x-python",
   "name": "python",
   "nbconvert_exporter": "python",
   "pygments_lexer": "ipython3",
   "version": "3.9.4"
  },
  "orig_nbformat": 4,
  "vscode": {
   "interpreter": {
    "hash": "038ab4256abdf0d95227addede2ed212ddc638332b2cd82e420a4c90712cb2c6"
   }
  }
 },
 "nbformat": 4,
 "nbformat_minor": 2
}
