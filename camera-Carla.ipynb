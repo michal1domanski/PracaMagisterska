{
 "cells": [
  {
   "cell_type": "code",
   "execution_count": 1,
   "metadata": {},
   "outputs": [
    {
     "name": "stdout",
     "output_type": "stream",
     "text": [
      "pygame 2.6.1 (SDL 2.28.4, Python 3.9.4)\n",
      "Hello from the pygame community. https://www.pygame.org/contribute.html\n"
     ]
    }
   ],
   "source": [
    "import carla\n",
    "import numpy as np\n",
    "import cv2\n",
    "import time\n",
    "import random\n",
    "import math\n",
    "import ffmpeg\n",
    "import pygame\n",
    "import subprocess\n",
    "import datetime"
   ]
  },
  {
   "cell_type": "code",
   "execution_count": 2,
   "metadata": {},
   "outputs": [],
   "source": [
    "client = carla.Client('localhost', 2000)\n",
    "client.set_timeout(10.0)\n",
    "world = client.get_world()"
   ]
  },
  {
   "cell_type": "code",
   "execution_count": 3,
   "metadata": {},
   "outputs": [],
   "source": [
    "blueprint_library = world.get_blueprint_library()\n",
    "vehicle_bp = blueprint_library.find('vehicle.ford.mustang')\n",
    "spawn_points = world.get_map().get_spawn_points()\n",
    "vehicle = world.spawn_actor(vehicle_bp, random.choice(spawn_points))"
   ]
  },
  {
   "cell_type": "code",
   "execution_count": 4,
   "metadata": {
    "collapsed": false
   },
   "outputs": [],
   "source": [
    "spectator = world.get_spectator()\n",
    "vehicle_transform = vehicle.get_transform()\n",
    "offset = carla.Location(x=-4,z=2.5)\n",
    "spectator_transform = carla.Transform(vehicle_transform.location + offset, vehicle_transform.rotation)\n",
    "spectator.set_transform(spectator_transform)"
   ]
  },
  {
   "cell_type": "code",
   "execution_count": 5,
   "metadata": {},
   "outputs": [
    {
     "name": "stdout",
     "output_type": "stream",
     "text": [
      "[768, 768]\n"
     ]
    }
   ],
   "source": [
    "scalar = 3\n",
    "disp_size =  [x * scalar for x in [256, 256]]\n",
    "print(disp_size)\n",
    "camera_bp = blueprint_library.find('sensor.camera.rgb')\n",
    "camera_init_trans = carla.Transform(carla.Location(z=1.5,x=0.4))\n",
    "camera_bp.set_attribute('image_size_x', str(disp_size[0]))\n",
    "camera_bp.set_attribute('image_size_y', str(disp_size[1]))\n",
    "camera = world.spawn_actor(camera_bp, camera_init_trans, attach_to=vehicle)"
   ]
  },
  {
   "cell_type": "code",
   "execution_count": 6,
   "metadata": {},
   "outputs": [],
   "source": [
    "ffmpeg_process = None\n",
    "recording = False\n",
    "pygame.init()\n",
    "screen=pygame.display.set_mode((disp_size[0], disp_size[1]))"
   ]
  },
  {
   "cell_type": "code",
   "execution_count": 7,
   "metadata": {},
   "outputs": [],
   "source": [
    "def start_recording():\n",
    "    global ffmpeg_process, recording\n",
    "    if not recording:\n",
    "        timestamp = datetime.datetime.now().strftime(\"%d-%m-%Y_%H-%M-%S\")\n",
    "        filename = f'{timestamp}.mp4'\n",
    "\n",
    "        ffmpeg_cmd = [\n",
    "            \"ffmpeg\",\n",
    "            \"-y\",  # Nadpisywanie plików\n",
    "            \"-f\", \"rawvideo\",\n",
    "            \"-pix_fmt\", \"bgr24\",\n",
    "            \"-s\", \"256x256\",\n",
    "            \"-r\", \"30\",  # FPS\n",
    "            \"-i\", \"-\",  # Input z `stdin`\n",
    "            \"-c:v\", \"libx264\",\n",
    "            \"-preset\", \"ultrafast\",\n",
    "            \"-crf\", \"23\",\n",
    "            filename\n",
    "        ]\n",
    "\n",
    "        ffmpeg_process = subprocess.Popen(ffmpeg_cmd, stdin=subprocess.PIPE)\n",
    "        recording = True\n",
    "        print(f\"🔴 Nagrywanie rozpoczęte: {filename}\")"
   ]
  },
  {
   "cell_type": "code",
   "execution_count": null,
   "metadata": {},
   "outputs": [],
   "source": [
    "def stop_recording():\n",
    "    global ffmpeg_process, recording\n",
    "    if recording and ffmpeg_process:\n",
    "        ffmpeg_process.stdin.close()\n",
    "        ffmpeg_process.wait()\n",
    "        ffmpeg_process = None\n",
    "        recording = False\n",
    "        print(\"🛑 Nagrywanie zakończone.\")"
   ]
  },
  {
   "cell_type": "code",
   "execution_count": null,
   "metadata": {},
   "outputs": [],
   "source": [
    "def process_image(image):\n",
    "    \"\"\" Przetwarza obraz z kamery i wysyła do ffmpeg. \"\"\"\n",
    "    if recording and ffmpeg_process:\n",
    "        array = np.frombuffer(image.raw_data, dtype=np.uint8)\n",
    "        array = array.reshape((image.height, image.width, 4))  # RGBA\n",
    "        frame = array[:, :, :3]  # Konwersja do BGR (OpenCV)\n",
    "        ffmpeg_process.stdin.write(frame.tobytes())"
   ]
  },
  {
   "cell_type": "code",
   "execution_count": null,
   "metadata": {},
   "outputs": [],
   "source": [
    "camera.listen(lambda image: process_image(image)) #image.save_to_disk('out/%06d.png' % image.frame))"
   ]
  },
  {
   "cell_type": "code",
   "execution_count": 9,
   "metadata": {},
   "outputs": [
    {
     "ename": "FileNotFoundError",
     "evalue": "[WinError 2] Nie można odnaleźć określonego pliku",
     "output_type": "error",
     "traceback": [
      "\u001b[1;31m---------------------------------------------------------------------------\u001b[0m",
      "\u001b[1;31mFileNotFoundError\u001b[0m                         Traceback (most recent call last)",
      "\u001b[1;32mc:\\Users\\Michał\\Desktop\\Praca magisterska\\Zakodowane-hehe\\camera-Carla.ipynb Komórka 11\u001b[0m in \u001b[0;36m<cell line: 2>\u001b[1;34m()\u001b[0m\n\u001b[0;32m      <a href='vscode-notebook-cell:/c%3A/Users/Micha%C5%82/Desktop/Praca%20magisterska/Zakodowane-hehe/camera-Carla.ipynb#X23sZmlsZQ%3D%3D?line=6'>7</a>\u001b[0m \u001b[39mif\u001b[39;00m event\u001b[39m.\u001b[39mtype \u001b[39m==\u001b[39m pygame\u001b[39m.\u001b[39mKEYDOWN:\n\u001b[0;32m      <a href='vscode-notebook-cell:/c%3A/Users/Micha%C5%82/Desktop/Praca%20magisterska/Zakodowane-hehe/camera-Carla.ipynb#X23sZmlsZQ%3D%3D?line=7'>8</a>\u001b[0m     \u001b[39mif\u001b[39;00m event\u001b[39m.\u001b[39mkey \u001b[39m==\u001b[39m pygame\u001b[39m.\u001b[39mK_r:  \u001b[39m# Naciśnięcie \"R\"\u001b[39;00m\n\u001b[1;32m----> <a href='vscode-notebook-cell:/c%3A/Users/Micha%C5%82/Desktop/Praca%20magisterska/Zakodowane-hehe/camera-Carla.ipynb#X23sZmlsZQ%3D%3D?line=8'>9</a>\u001b[0m         start_recording()\n\u001b[0;32m     <a href='vscode-notebook-cell:/c%3A/Users/Micha%C5%82/Desktop/Praca%20magisterska/Zakodowane-hehe/camera-Carla.ipynb#X23sZmlsZQ%3D%3D?line=9'>10</a>\u001b[0m     \u001b[39mif\u001b[39;00m event\u001b[39m.\u001b[39mkey \u001b[39m==\u001b[39m pygame\u001b[39m.\u001b[39mK_k:  \u001b[39m# Naciśnięcie \"K\"\u001b[39;00m\n\u001b[0;32m     <a href='vscode-notebook-cell:/c%3A/Users/Micha%C5%82/Desktop/Praca%20magisterska/Zakodowane-hehe/camera-Carla.ipynb#X23sZmlsZQ%3D%3D?line=10'>11</a>\u001b[0m         stop_recording()\n",
      "\u001b[1;32mc:\\Users\\Michał\\Desktop\\Praca magisterska\\Zakodowane-hehe\\camera-Carla.ipynb Komórka 11\u001b[0m in \u001b[0;36mstart_recording\u001b[1;34m()\u001b[0m\n\u001b[0;32m      <a href='vscode-notebook-cell:/c%3A/Users/Micha%C5%82/Desktop/Praca%20magisterska/Zakodowane-hehe/camera-Carla.ipynb#X23sZmlsZQ%3D%3D?line=4'>5</a>\u001b[0m filename \u001b[39m=\u001b[39m \u001b[39mf\u001b[39m\u001b[39m'\u001b[39m\u001b[39m{\u001b[39;00mtimestamp\u001b[39m}\u001b[39;00m\u001b[39m.mp4\u001b[39m\u001b[39m'\u001b[39m\n\u001b[0;32m      <a href='vscode-notebook-cell:/c%3A/Users/Micha%C5%82/Desktop/Praca%20magisterska/Zakodowane-hehe/camera-Carla.ipynb#X23sZmlsZQ%3D%3D?line=6'>7</a>\u001b[0m ffmpeg_cmd \u001b[39m=\u001b[39m [\n\u001b[0;32m      <a href='vscode-notebook-cell:/c%3A/Users/Micha%C5%82/Desktop/Praca%20magisterska/Zakodowane-hehe/camera-Carla.ipynb#X23sZmlsZQ%3D%3D?line=7'>8</a>\u001b[0m     \u001b[39m\"\u001b[39m\u001b[39mffmpeg\u001b[39m\u001b[39m\"\u001b[39m,\n\u001b[0;32m      <a href='vscode-notebook-cell:/c%3A/Users/Micha%C5%82/Desktop/Praca%20magisterska/Zakodowane-hehe/camera-Carla.ipynb#X23sZmlsZQ%3D%3D?line=8'>9</a>\u001b[0m     \u001b[39m\"\u001b[39m\u001b[39m-y\u001b[39m\u001b[39m\"\u001b[39m,  \u001b[39m# Nadpisywanie plików\u001b[39;00m\n\u001b[1;32m   (...)\u001b[0m\n\u001b[0;32m     <a href='vscode-notebook-cell:/c%3A/Users/Micha%C5%82/Desktop/Praca%20magisterska/Zakodowane-hehe/camera-Carla.ipynb#X23sZmlsZQ%3D%3D?line=17'>18</a>\u001b[0m     filename\n\u001b[0;32m     <a href='vscode-notebook-cell:/c%3A/Users/Micha%C5%82/Desktop/Praca%20magisterska/Zakodowane-hehe/camera-Carla.ipynb#X23sZmlsZQ%3D%3D?line=18'>19</a>\u001b[0m ]\n\u001b[1;32m---> <a href='vscode-notebook-cell:/c%3A/Users/Micha%C5%82/Desktop/Praca%20magisterska/Zakodowane-hehe/camera-Carla.ipynb#X23sZmlsZQ%3D%3D?line=20'>21</a>\u001b[0m ffmpeg_process \u001b[39m=\u001b[39m subprocess\u001b[39m.\u001b[39;49mPopen(ffmpeg_cmd, stdin\u001b[39m=\u001b[39;49msubprocess\u001b[39m.\u001b[39;49mPIPE)\n\u001b[0;32m     <a href='vscode-notebook-cell:/c%3A/Users/Micha%C5%82/Desktop/Praca%20magisterska/Zakodowane-hehe/camera-Carla.ipynb#X23sZmlsZQ%3D%3D?line=21'>22</a>\u001b[0m recording \u001b[39m=\u001b[39m \u001b[39mTrue\u001b[39;00m\n\u001b[0;32m     <a href='vscode-notebook-cell:/c%3A/Users/Micha%C5%82/Desktop/Praca%20magisterska/Zakodowane-hehe/camera-Carla.ipynb#X23sZmlsZQ%3D%3D?line=22'>23</a>\u001b[0m \u001b[39mprint\u001b[39m(\u001b[39mf\u001b[39m\u001b[39m\"\u001b[39m\u001b[39m🔴 Nagrywanie rozpoczęte: \u001b[39m\u001b[39m{\u001b[39;00mfilename\u001b[39m}\u001b[39;00m\u001b[39m\"\u001b[39m)\n",
      "File \u001b[1;32mc:\\Users\\Michał\\AppData\\Local\\Programs\\Python\\Python39\\lib\\subprocess.py:951\u001b[0m, in \u001b[0;36mPopen.__init__\u001b[1;34m(self, args, bufsize, executable, stdin, stdout, stderr, preexec_fn, close_fds, shell, cwd, env, universal_newlines, startupinfo, creationflags, restore_signals, start_new_session, pass_fds, user, group, extra_groups, encoding, errors, text, umask)\u001b[0m\n\u001b[0;32m    947\u001b[0m         \u001b[39mif\u001b[39;00m \u001b[39mself\u001b[39m\u001b[39m.\u001b[39mtext_mode:\n\u001b[0;32m    948\u001b[0m             \u001b[39mself\u001b[39m\u001b[39m.\u001b[39mstderr \u001b[39m=\u001b[39m io\u001b[39m.\u001b[39mTextIOWrapper(\u001b[39mself\u001b[39m\u001b[39m.\u001b[39mstderr,\n\u001b[0;32m    949\u001b[0m                     encoding\u001b[39m=\u001b[39mencoding, errors\u001b[39m=\u001b[39merrors)\n\u001b[1;32m--> 951\u001b[0m     \u001b[39mself\u001b[39;49m\u001b[39m.\u001b[39;49m_execute_child(args, executable, preexec_fn, close_fds,\n\u001b[0;32m    952\u001b[0m                         pass_fds, cwd, env,\n\u001b[0;32m    953\u001b[0m                         startupinfo, creationflags, shell,\n\u001b[0;32m    954\u001b[0m                         p2cread, p2cwrite,\n\u001b[0;32m    955\u001b[0m                         c2pread, c2pwrite,\n\u001b[0;32m    956\u001b[0m                         errread, errwrite,\n\u001b[0;32m    957\u001b[0m                         restore_signals,\n\u001b[0;32m    958\u001b[0m                         gid, gids, uid, umask,\n\u001b[0;32m    959\u001b[0m                         start_new_session)\n\u001b[0;32m    960\u001b[0m \u001b[39mexcept\u001b[39;00m:\n\u001b[0;32m    961\u001b[0m     \u001b[39m# Cleanup if the child failed starting.\u001b[39;00m\n\u001b[0;32m    962\u001b[0m     \u001b[39mfor\u001b[39;00m f \u001b[39min\u001b[39;00m \u001b[39mfilter\u001b[39m(\u001b[39mNone\u001b[39;00m, (\u001b[39mself\u001b[39m\u001b[39m.\u001b[39mstdin, \u001b[39mself\u001b[39m\u001b[39m.\u001b[39mstdout, \u001b[39mself\u001b[39m\u001b[39m.\u001b[39mstderr)):\n",
      "File \u001b[1;32mc:\\Users\\Michał\\AppData\\Local\\Programs\\Python\\Python39\\lib\\subprocess.py:1420\u001b[0m, in \u001b[0;36mPopen._execute_child\u001b[1;34m(self, args, executable, preexec_fn, close_fds, pass_fds, cwd, env, startupinfo, creationflags, shell, p2cread, p2cwrite, c2pread, c2pwrite, errread, errwrite, unused_restore_signals, unused_gid, unused_gids, unused_uid, unused_umask, unused_start_new_session)\u001b[0m\n\u001b[0;32m   1418\u001b[0m \u001b[39m# Start the process\u001b[39;00m\n\u001b[0;32m   1419\u001b[0m \u001b[39mtry\u001b[39;00m:\n\u001b[1;32m-> 1420\u001b[0m     hp, ht, pid, tid \u001b[39m=\u001b[39m _winapi\u001b[39m.\u001b[39;49mCreateProcess(executable, args,\n\u001b[0;32m   1421\u001b[0m                              \u001b[39m# no special security\u001b[39;49;00m\n\u001b[0;32m   1422\u001b[0m                              \u001b[39mNone\u001b[39;49;00m, \u001b[39mNone\u001b[39;49;00m,\n\u001b[0;32m   1423\u001b[0m                              \u001b[39mint\u001b[39;49m(\u001b[39mnot\u001b[39;49;00m close_fds),\n\u001b[0;32m   1424\u001b[0m                              creationflags,\n\u001b[0;32m   1425\u001b[0m                              env,\n\u001b[0;32m   1426\u001b[0m                              cwd,\n\u001b[0;32m   1427\u001b[0m                              startupinfo)\n\u001b[0;32m   1428\u001b[0m \u001b[39mfinally\u001b[39;00m:\n\u001b[0;32m   1429\u001b[0m     \u001b[39m# Child is launched. Close the parent's copy of those pipe\u001b[39;00m\n\u001b[0;32m   1430\u001b[0m     \u001b[39m# handles that only the child should have open.  You need\u001b[39;00m\n\u001b[1;32m   (...)\u001b[0m\n\u001b[0;32m   1433\u001b[0m     \u001b[39m# pipe will not close when the child process exits and the\u001b[39;00m\n\u001b[0;32m   1434\u001b[0m     \u001b[39m# ReadFile will hang.\u001b[39;00m\n\u001b[0;32m   1435\u001b[0m     \u001b[39mself\u001b[39m\u001b[39m.\u001b[39m_close_pipe_fds(p2cread, p2cwrite,\n\u001b[0;32m   1436\u001b[0m                          c2pread, c2pwrite,\n\u001b[0;32m   1437\u001b[0m                          errread, errwrite)\n",
      "\u001b[1;31mFileNotFoundError\u001b[0m: [WinError 2] Nie można odnaleźć określonego pliku"
     ]
    }
   ],
   "source": [
    "running = True\n",
    "while running:\n",
    "    for event in pygame.event.get():\n",
    "        if event.type == pygame.QUIT:\n",
    "            running = False\n",
    "\n",
    "        if event.type == pygame.KEYDOWN:\n",
    "            if event.key == pygame.K_r:  # Naciśnięcie \"R\"\n",
    "                start_recording()\n",
    "            if event.key == pygame.K_k:  # Naciśnięcie \"K\"\n",
    "                stop_recording()"
   ]
  },
  {
   "cell_type": "code",
   "execution_count": null,
   "metadata": {
    "collapsed": false
   },
   "outputs": [],
   "source": [
    "camera.stop()\n",
    "camera.destroy()\n",
    "stop_recording()\n",
    "pygame.quit()"
   ]
  },
  {
   "cell_type": "code",
   "execution_count": null,
   "metadata": {},
   "outputs": [],
   "source": [
    "def detect_lanes(image):\n",
    "    \"\"\"Wykrywanie pasów ruchu za pomocą przetwarzania obrazu\"\"\"\n",
    "    gray = cv2.cvtColor(image, cv2.COLOR_BGR2GRAY)  # Skala szarości\n",
    "    blur = cv2.GaussianBlur(gray, (5, 5), 0)  # Rozmycie\n",
    "    edges = cv2.Canny(blur, 50, 150)  # Detekcja krawędzi\n",
    "    cv2.imshow(image)\n",
    "    # Tworzenie maski dla regionu zainteresowania (ROI)\n",
    "    height, width = edges.shape\n",
    "    mask = np.zeros_like(edges)\n",
    "    roi_vertices = np.array([[(50, height), (width//2-50, height//2), (width//2+50, height//2), (width-50, height)]], dtype=np.int32)\n",
    "    cv2.fillPoly(mask, roi_vertices, 255)\n",
    "    masked_edges = cv2.bitwise_and(edges, mask)\n",
    "\n",
    "    # Wykrywanie linii metodą Hougha\n",
    "    lines = cv2.HoughLinesP(masked_edges, 1, np.pi/180, 50, minLineLength=50, maxLineGap=200)\n",
    "    return lines"
   ]
  },
  {
   "cell_type": "code",
   "execution_count": null,
   "metadata": {},
   "outputs": [],
   "source": [
    "def get_lane_center(lines, image_width):\n",
    "    \"\"\"Obliczanie środka pasa na podstawie wykrytych linii\"\"\"\n",
    "    if lines is None:\n",
    "        return image_width // 2  # Brak wykrytych linii – domyślnie środek ekranu\n",
    "\n",
    "    left_lines, right_lines = [], []\n",
    "\n",
    "    for line in lines:\n",
    "        x1, y1, x2, y2 = line[0]\n",
    "        slope = (y2 - y1) / (x2 - x1 + 1e-6)  # Unikanie dzielenia przez zero\n",
    "        if slope < 0:\n",
    "            left_lines.append((x1, x2))\n",
    "        else:\n",
    "            right_lines.append((x1, x2))\n",
    "\n",
    "    if left_lines and right_lines:\n",
    "        left_x = np.mean([x for x1, x2 in left_lines for x in (x1, x2)])\n",
    "        right_x = np.mean([x for x1, x2 in right_lines for x in (x1, x2)])\n",
    "        return (left_x + right_x) / 2\n",
    "\n",
    "    return image_width // 2  # Domyślna wartość środka pasa\n",
    "\n",
    "\n",
    "def get_vehicle_position(image_width):\n",
    "    \"\"\"Pozycja pojazdu w obrazie (zakładamy, że to środek dolnej krawędzi)\"\"\"\n",
    "    return image_width // 2\n"
   ]
  },
  {
   "cell_type": "code",
   "execution_count": null,
   "metadata": {},
   "outputs": [],
   "source": [
    "class PIDController:\n",
    "    \"\"\"Prosty kontroler PID do sterowania pojazdem\"\"\"\n",
    "    def __init__(self, Kp, Ki, Kd):\n",
    "        self.Kp = Kp\n",
    "        self.Ki = Ki\n",
    "        self.Kd = Kd\n",
    "        self.integral = 0\n",
    "        self.prev_error = 0\n",
    "\n",
    "    def control(self, error, dt):\n",
    "        \"\"\"Obliczanie korekcji sterowania\"\"\"\n",
    "        self.integral += error * dt\n",
    "        derivative = (error - self.prev_error) / dt\n",
    "        output = self.Kp * error + self.Ki * self.integral + self.Kd * derivative\n",
    "        self.prev_error = error\n",
    "        return output"
   ]
  },
  {
   "cell_type": "code",
   "execution_count": null,
   "metadata": {},
   "outputs": [],
   "source": [
    "pid = PIDController(Kp=0.2, Ki=0.05, Kd=0.1)\n",
    "\n",
    "def process_image(image):\n",
    "    \"\"\"Obsługa obrazu z kamery i sterowanie pojazdem\"\"\"\n",
    "    array = np.frombuffer(image.raw_data, dtype=np.uint8).reshape((image.height, image.width, 4))[:, :, :3]\n",
    "\n",
    "    # Wykrywanie linii pasa ruchu\n",
    "    lines = detect_lanes(array)\n",
    "    print(\"lol\")\n",
    "    \n",
    "    # Obliczenie błędu względem środka pasa\n",
    "    desired_position = get_lane_center(lines, array.shape[1])\n",
    "    current_position = get_vehicle_position(array.shape[1])\n",
    "    error = desired_position - current_position\n",
    "\n",
    "    # Obliczenie korekcji PID\n",
    "    correction = pid.control(error, 0.05)  # dt = 0.05s\n",
    "\n",
    "    # Sterowanie pojazdem\n",
    "    control = carla.VehicleControl()\n",
    "    control.steer = np.clip(correction * 0.01, -1.0, 1.0)  # Korekcja skrętu\n",
    "    control.throttle = 0.3  # Stała prędkość\n",
    "\n",
    "    vehicle.apply_control(control)\n",
    "\n",
    "    # Podgląd obrazu z wykrytymi liniami\n",
    "    if lines is not None:\n",
    "        for line in lines:\n",
    "            x1, y1, x2, y2 = line[0]\n",
    "            cv2.line(array, (x1, y1), (x2, y2), (0, 255, 0), 5)\n",
    "    \n",
    "    cv2.imshow(\"Lane Detection\", array)\n",
    "    cv2.waitKey(1)\n",
    "\n",
    "# Start nasłuchiwania kamery\n",
    "camera.listen(lambda image: process_image(image))\n",
    "\n",
    "print(\"Autopilot uruchomiony!\")"
   ]
  },
  {
   "cell_type": "code",
   "execution_count": null,
   "metadata": {},
   "outputs": [],
   "source": [
    "def stop_simulation():\n",
    "    \"\"\"Zatrzymuje symulację i niszczy aktorów\"\"\"\n",
    "    camera.stop()\n",
    "    vehicle.destroy()\n",
    "    print(\"Symulacja zatrzymana.\")\n",
    "\n",
    "stop_simulation()  # Wykonaj tę funkcję, jeśli chcesz zatrzymać wszystko"
   ]
  }
 ],
 "metadata": {
  "kernelspec": {
   "display_name": "Python 3.9.4 64-bit",
   "language": "python",
   "name": "python3"
  },
  "language_info": {
   "codemirror_mode": {
    "name": "ipython",
    "version": 3
   },
   "file_extension": ".py",
   "mimetype": "text/x-python",
   "name": "python",
   "nbconvert_exporter": "python",
   "pygments_lexer": "ipython3",
   "version": "3.9.4"
  },
  "orig_nbformat": 4,
  "vscode": {
   "interpreter": {
    "hash": "038ab4256abdf0d95227addede2ed212ddc638332b2cd82e420a4c90712cb2c6"
   }
  }
 },
 "nbformat": 4,
 "nbformat_minor": 2
}
